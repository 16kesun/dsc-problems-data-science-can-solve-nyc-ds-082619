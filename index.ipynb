{
 "cells": [
  {
   "cell_type": "markdown",
   "metadata": {},
   "source": [
    "# What Problems Can Data Science Solve "
   ]
  },
  {
   "cell_type": "markdown",
   "metadata": {},
   "source": [
    "### SWABTs:\n",
    "    \n",
    "* Explain the classes of problems that data science can be used to solve\n"
   ]
  },
  {
   "cell_type": "markdown",
   "metadata": {},
   "source": [
    "### Introduction \n",
    "\n",
    "In the present society, data science and big data are the trendy expressions and ongoing development in these domains is viewed as the key business success criterion. It is, however, often challenging to find a shared vocabulary between data scientists and business decision makers. Data analytics process always begins with spending a lot of time to see clarifications on what can be referred to as a **\"Business Problem\"** or an **\"Analytical Problem\"**. This is a key step and that helps data scientists decide which data and tools would they need to solve the problem. \n",
    "\n",
    "> Having a clearly posed business question is vital because it eventually directs the analytical approach that will be needed to address the question\n",
    "\n",
    "Based on this, the analytic approach starts with understanding of the strategic goals. For example, if your manager asks: \"How can we reduce the costs of our marketing campaign without hurting the revenues?\", you need to identify whether the goal is to improve the efficiency of marketing? Or to increase the businesses profitability? Or both. Once the goal is clarified, the next step is to figure out what data would you need to support of the identified goal. "
   ]
  },
  {
   "cell_type": "markdown",
   "metadata": {},
   "source": [
    "Before trying to solve a data related problem, it is imperative that a data scientist/analyst carries a clear understanding of the problem domain. \n",
    "\n",
    "Following is a list of some routine business problems data scientists are expected to solve. There is a lot more that can be added to this list but we shall keep it simple for now. "
   ]
  },
  {
   "cell_type": "markdown",
   "metadata": {},
   "source": [
    "### How much or how many - Regression analysis\n",
    "\n",
    "Regression analysis and modeling techniques are used to show or predict the relationship between two data entities or factors. In a business context, regression analysis is used for predictive analysis around different business entities, Supporting managerial decision making, Improving operational efficiency and for providing new insights into the business context. \n",
    "\n",
    "#### Example:  Sales or Market Forecasts\n",
    "\n",
    "![](https://analysights.files.wordpress.com/2010/05/051310_0140_forecastfri21.png?w=450)\n",
    "Linear regression is a handy technique to forecast sales, monitor marketing campaigns and create create future plans etc. Traditional trend analysis only looks at how one business entity changes with respect to another. Regression analyses can provide insight into how an outcome will change when several other entities are modified.\n"
   ]
  },
  {
   "cell_type": "markdown",
   "metadata": {},
   "source": [
    "### Which category - Classification analysis\n",
    "\n",
    "Classification analysis deals with inspecting the relationship between several predictors  and one outcome. The outcome for classification directs the analyses towards one out of many categories. Classification models help organizations predict a known result, such as whether a customer will buy or churn, weather an employee will leave or stay or whether a transaction fits a known pattern of fraud.\n",
    "\n",
    "#### Example: Credit Rating\n",
    "\n",
    "![](https://image.slidesharecdn.com/creditratingagencies-150922200742-lva1-app6891/95/credit-rating-agencies-15-638.jpg?cb=1442952619)\n",
    "\n",
    "Credit card companies usually recieve hunderds of thousands of requests from customers every week. These applications contain detailed information on customer social, economic and personal attributes. Classification analysis can easily allow such companies to categorize their customers as having \"Good\" or \"Bad\" credit rating or if they fall in the gray area. \n"
   ]
  },
  {
   "cell_type": "markdown",
   "metadata": {},
   "source": [
    "### Is this weird? - Anomaly detection\n",
    "\n",
    "Anomaly detection is a data science technique used to find unusual patterns that do not conform to expected behavior. Anomaly detection is a common analysis technique used in most big business. It has many applications in such businesses, from intrusion detection (identifying strange patterns in network traffic that could signal a hack) to fraud detection in credit card transactions to fault detection in operating environments.\n",
    "\n",
    "#### Example: Identifying Fruad\n",
    "\n",
    "![](https://cdn-images-1.medium.com/max/1200/1*F_yiILIE954AZPgPADx76A.png)\n",
    "\n",
    "Fraud detection is the most common typoe anomaly detection technique used by businesses. This approach focuses at finding **outliers** in the user usage data that appear to have patterns unlike the majority of users.  This serves as a first indication for presence of a fraudulent activity. Such approaches are heavily applied all the way from large social networks, including Google and Facebook, to banks and credit card companies for finding possible hackers/fraudsters."
   ]
  },
  {
   "cell_type": "markdown",
   "metadata": {},
   "source": [
    "### Which option should be taken? - Recommender Systems\n",
    "\n",
    "Recommender systems are among the most popular applications of data science today. They are used to predict user preferences towards a product/service. Almost every major tech company (Amazon, Netflix, Google, Facebook) has applied them in some form or the other. You might have noticed phrases like \"If you like this product, you may also like ...\", \"Users who bought this item, also bought ...\" and \"Based on your preferences, we recommend following products to you ...\". You got it, these are all recommender systems in action. \n",
    "\n",
    "#### Example: Recommending products/services\n",
    "\n",
    "![](http://blog.prediction.io/assets/images/Masters.png)\n",
    "\n",
    "Recommender systems can help a business retain customers by providing them with tailored suggestions specific to their needs. They can help increase sales and create brand loyalty through relevant personalization. When a customer feels as though they are understood by your brand, they are more likely to stay loyal and continue purchasing through your site.\n",
    "According to a recent study by McKinsey, up to 75% of what consumers watch on Netflix comes from the company’s recommender system. Retail giant Amazon credits recommender systems with 35% of their revenue. Best Buy decided to focus on their online sales, and in 2016’s second quarter they reported a 23.7% increase, thanks in part to their recommender system. \n"
   ]
  },
  {
   "cell_type": "markdown",
   "metadata": {},
   "source": [
    "### Summary\n",
    "This lesson provides an application oriented, non-technical introduction to some popular business use cases for data science applications and practices. The approaches highlighted above will be covered in detail as we progress through the course. "
   ]
  },
  {
   "cell_type": "code",
   "execution_count": null,
   "metadata": {},
   "outputs": [],
   "source": []
  }
 ],
 "metadata": {
  "kernelspec": {
   "display_name": "Python 3",
   "language": "python",
   "name": "python3"
  },
  "language_info": {
   "codemirror_mode": {
    "name": "ipython",
    "version": 3
   },
   "file_extension": ".py",
   "mimetype": "text/x-python",
   "name": "python",
   "nbconvert_exporter": "python",
   "pygments_lexer": "ipython3",
   "version": "3.6.4"
  }
 },
 "nbformat": 4,
 "nbformat_minor": 2
}
